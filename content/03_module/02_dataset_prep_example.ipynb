{
 "cells": [
  {
   "cell_type": "code",
   "execution_count": null,
   "id": "8c29bddf-9e09-4ab5-832e-7e62d48f17f4",
   "metadata": {},
   "outputs": [],
   "source": [
    "import os\n",
    "import shutil\n",
    "import random\n",
    "\n",
    "# Define paths\n",
    "source_dir = r\"C:\\dataset_example\"  # Folder where all images are stored before splitting\n",
    "output_dir = r\"C:\\dataset_example\\split\"  # Folder where images will be organized\n",
    "\n",
    "# Define categories\n",
    "categories = [\"CORAL\", \"CORAL_BL\"]  \n",
    "split_ratio = {\"train\": 0.7, \"val\": 0.15, \"test\": 0.15}\n",
    "\n",
    "# Create folders\n",
    "for split in [\"train\", \"val\", \"test\"]:\n",
    "    for category in categories:\n",
    "        os.makedirs(os.path.join(output_dir, split, category), exist_ok=True)\n",
    "\n",
    "# Split data\n",
    "for category in categories:\n",
    "    images = os.listdir(os.path.join(source_dir, category))\n",
    "    random.shuffle(images)\n",
    "    \n",
    "    train_count = int(len(images) * split_ratio[\"train\"])\n",
    "    val_count = int(len(images) * split_ratio[\"val\"])\n",
    "    \n",
    "    for i, img in enumerate(images):\n",
    "        if i < train_count:\n",
    "            split = \"train\"\n",
    "        elif i < train_count + val_count:\n",
    "            split = \"val\"\n",
    "        else:\n",
    "            split = \"test\"\n",
    "\n",
    "        src = os.path.join(source_dir, category, img)\n",
    "        dest = os.path.join(output_dir, split, category, img)\n",
    "        shutil.copy(src, dest)"
   ]
  }
 ],
 "metadata": {
  "kernelspec": {
   "display_name": "Python 3 (ipykernel)",
   "language": "python",
   "name": "python3"
  },
  "language_info": {
   "codemirror_mode": {
    "name": "ipython",
    "version": 3
   },
   "file_extension": ".py",
   "mimetype": "text/x-python",
   "name": "python",
   "nbconvert_exporter": "python",
   "pygments_lexer": "ipython3",
   "version": "3.11.11"
  }
 },
 "nbformat": 4,
 "nbformat_minor": 5
}
